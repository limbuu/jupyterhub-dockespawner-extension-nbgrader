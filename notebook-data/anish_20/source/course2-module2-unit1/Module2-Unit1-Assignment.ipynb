{
 "cells": [
  {
   "cell_type": "markdown",
   "metadata": {
    "nbgrader": {
     "grade": false,
     "grade_id": "cell-9cba43e97a829e4f",
     "locked": true,
     "schema_version": 1,
     "solution": false
    }
   },
   "source": [
    "## Assignment 1.2 Python Classes\n",
    "The constructor is always written as a function called init()\n",
    "It must always take as its first argument a reference to the instance being constructed\n",
    "Single underscore before a member variable denotes it protected and double underscore denotes it private but it is just a convention."
   ]
  },
  {
   "cell_type": "markdown",
   "metadata": {
    "nbgrader": {
     "grade": false,
     "grade_id": "cell-ff1a22272958c2da",
     "locked": true,
     "schema_version": 1,
     "solution": false
    }
   },
   "source": [
    "### Excercise1 \n",
    "Create a Class Rectangle such that its objects are initialized with its length and breadth. Make two class methods get_area and get_perimeter which calculates and return the area and circumference respectively\n"
   ]
  },
  {
   "cell_type": "code",
   "execution_count": 4,
   "metadata": {
    "nbgrader": {
     "grade": false,
     "grade_id": "cell-88007790521d6ed4",
     "locked": false,
     "schema_version": 1,
     "solution": true
    }
   },
   "outputs": [],
   "source": [
    "class Rectangle():\n",
    "# Your code here\n",
    "    def get_area():\n",
    "        # Code here\n",
    "        pass\n",
    "    def get_perimeter():\n",
    "        #Code here\n",
    "        pass\n",
    "### BEGIN SOLUTION\n",
    "class Rectangle():\n",
    "    def __init__(self, length, breadth):\n",
    "        self.length = length\n",
    "        self.breadth = breadth\n",
    "    def get_area(self):\n",
    "        return self.length*self.breadth\n",
    "    def get_perimeter(self):\n",
    "        return 2*(self.length+self.breadth)\n",
    "### END SOLUTION"
   ]
  },
  {
   "cell_type": "code",
   "execution_count": 5,
   "metadata": {
    "nbgrader": {
     "grade": true,
     "grade_id": "cell-01c4e2988b52334e",
     "locked": true,
     "points": 5,
     "schema_version": 1,
     "solution": false
    }
   },
   "outputs": [],
   "source": [
    "rec1 = Rectangle(4,10)\n",
    "assert(rec1.get_area() == 40)\n",
    "### HIDDEN TESTS HERE ###\n",
    "### BEGIN HIDDEN TESTS\n",
    "rec91 = Rectangle(3,10)\n",
    "assert(rec91.get_area() == 3*10)\n",
    "assert(rec91.get_perimeter() == 2*(3+10))\n",
    "### END HIDDEN TESTS"
   ]
  },
  {
   "cell_type": "markdown",
   "metadata": {
    "nbgrader": {
     "grade": false,
     "grade_id": "cell-79acb6407491a5f6",
     "locked": true,
     "schema_version": 1,
     "solution": false
    }
   },
   "source": [
    "### Excersie2 \n",
    "Python Special Methods"
   ]
  },
  {
   "cell_type": "code",
   "execution_count": 6,
   "metadata": {
    "nbgrader": {
     "grade": false,
     "grade_id": "cell-648325934ae54185",
     "locked": false,
     "schema_version": 1,
     "solution": true
    }
   },
   "outputs": [],
   "source": [
    "# Modify the Rectangle class to print object as \"Rectangle(length=a, breadth=b)\"\n",
    "# where a and b are length and breadth \n",
    "\n",
    "### BEGIN SOLUTION\n",
    "class Rectangle():\n",
    "    def __init__(self, length, breadth):\n",
    "        self.length = length\n",
    "        self.breadth = breadth\n",
    "    def get_area(self):\n",
    "        return self.length*self.breadth\n",
    "    def get_perimeter(self):\n",
    "        return 2*(self.length+self.breadth)\n",
    "    def __repr__(self):\n",
    "        return \"Rectangle(length={}, breadth={})\".format(self.length,self.breadth)\n",
    "### END SOLUTION"
   ]
  },
  {
   "cell_type": "code",
   "execution_count": 7,
   "metadata": {
    "nbgrader": {
     "grade": true,
     "grade_id": "cell-eab820ca1546be91",
     "locked": true,
     "points": 5,
     "schema_version": 1,
     "solution": false
    }
   },
   "outputs": [],
   "source": [
    "### HIDDEN TESTS HERE ###\n",
    "### BEGIN HIDDEN TESTS\n",
    "rec91 = Rectangle(3,10)\n",
    "assert(rec91.__repr__()==\"Rectangle(length=3, breadth=10)\")\n",
    "### END HIDDEN TESTS"
   ]
  }
 ],
 "metadata": {
  "celltoolbar": "Create Assignment",
  "kernelspec": {
   "display_name": "Python 3",
   "language": "python",
   "name": "python3"
  },
  "language_info": {
   "codemirror_mode": {
    "name": "ipython",
    "version": 3
   },
   "file_extension": ".py",
   "mimetype": "text/x-python",
   "name": "python",
   "nbconvert_exporter": "python",
   "pygments_lexer": "ipython3",
   "version": "3.7.3"
  }
 },
 "nbformat": 4,
 "nbformat_minor": 2
}
