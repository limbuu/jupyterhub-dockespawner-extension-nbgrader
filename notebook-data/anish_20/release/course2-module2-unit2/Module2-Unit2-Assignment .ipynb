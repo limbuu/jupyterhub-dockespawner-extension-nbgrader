{
 "cells": [
  {
   "cell_type": "markdown",
   "metadata": {
    "deletable": false,
    "editable": false,
    "nbgrader": {
     "checksum": "c8f64ccd7e63bdae04ac1e3e8790c836",
     "grade": false,
     "grade_id": "cell-78090b2544be136c",
     "locked": true,
     "schema_version": 1,
     "solution": false
    },
    "slideshow": {
     "slide_type": "-"
    }
   },
   "source": [
    "## Assignment 1.2 Python Classes\n",
    "The constructor is always written as a function called init() It must always take as its first argument a reference to the instance being constructed Single underscore before a member variable denotes it protected and double underscore denotes it private but it is just a convention."
   ]
  },
  {
   "cell_type": "markdown",
   "metadata": {
    "deletable": false,
    "editable": false,
    "nbgrader": {
     "checksum": "fe3e6776d4f3ff25b3dacd15add6f975",
     "grade": false,
     "grade_id": "cell-16907de49024d1a2",
     "locked": true,
     "schema_version": 1,
     "solution": false
    }
   },
   "source": [
    "### Excersise 3\n",
    "Modify rectangle class to compare rectangle objects (comparing with areas) \n",
    "Operator overloading of rich comparisons = ,> ,< ,<= ,>= ,!= , \n"
   ]
  },
  {
   "cell_type": "code",
   "execution_count": null,
   "metadata": {
    "deletable": false,
    "nbgrader": {
     "checksum": "8e11729d81a486fefe8020282b3845f1",
     "grade": false,
     "grade_id": "cell-57c54f6b2e9f1bdd",
     "locked": false,
     "schema_version": 1,
     "solution": true
    }
   },
   "outputs": [],
   "source": [
    "# YOUR CODE HERE\n",
    "raise NotImplementedError()"
   ]
  },
  {
   "cell_type": "code",
   "execution_count": null,
   "metadata": {
    "deletable": false,
    "editable": false,
    "nbgrader": {
     "checksum": "0f4e38ab97293e4cd2cb87c4ef426a31",
     "grade": true,
     "grade_id": "cell-2a7ef91ac3825c4f",
     "locked": true,
     "points": 5,
     "schema_version": 1,
     "solution": false
    }
   },
   "outputs": [],
   "source": [
    "assert(Rectangle(3,10)==Rectangle(3,10))\n",
    "assert(Rectangle(2,10)<Rectangle(3,10))\n",
    "assert(Rectangle(3,10)!=Rectangle(2,10))\n",
    "assert(Rectangle(3,10)>=Rectangle(3,10))\n",
    "### HIDDEN TESTS HERE ###"
   ]
  },
  {
   "cell_type": "markdown",
   "metadata": {
    "deletable": false,
    "editable": false,
    "nbgrader": {
     "checksum": "6485d27cfc6da6e9fecffe045b20348d",
     "grade": false,
     "grade_id": "cell-7b02b2ca0d8f5816",
     "locked": true,
     "schema_version": 1,
     "solution": false
    }
   },
   "source": [
    "### Excersise 4\n",
    "Inheritance \n",
    "Derive a class **Square** from **Rectangle** with one properties \"length\" (initialized through constructor) and able to calculate area, perimeter and comparison"
   ]
  },
  {
   "cell_type": "code",
   "execution_count": null,
   "metadata": {
    "deletable": false,
    "nbgrader": {
     "checksum": "9dff2199f925c44bc00665ef9f83b663",
     "grade": false,
     "grade_id": "cell-9193fb70b8589235",
     "locked": false,
     "schema_version": 1,
     "solution": true
    }
   },
   "outputs": [],
   "source": [
    "class Square():\n",
    "    pass\n",
    "# YOUR CODE HERE\n",
    "raise NotImplementedError()"
   ]
  },
  {
   "cell_type": "code",
   "execution_count": null,
   "metadata": {
    "deletable": false,
    "editable": false,
    "nbgrader": {
     "checksum": "5bbd9b5fb7ec239375cc945ff26fb549",
     "grade": true,
     "grade_id": "cell-b860a4edf7a89cec",
     "locked": true,
     "points": 5,
     "schema_version": 1,
     "solution": false
    }
   },
   "outputs": [],
   "source": [
    "assert(Square(9).get_area()==81)\n",
    "assert(Square(10) != Square(5))\n",
    "### HIDDEN TESTS HERE ###"
   ]
  }
 ],
 "metadata": {
  "kernelspec": {
   "display_name": "Python 3",
   "language": "python",
   "name": "python3"
  },
  "language_info": {
   "codemirror_mode": {
    "name": "ipython",
    "version": 3
   },
   "file_extension": ".py",
   "mimetype": "text/x-python",
   "name": "python",
   "nbconvert_exporter": "python",
   "pygments_lexer": "ipython3",
   "version": "3.7.3"
  }
 },
 "nbformat": 4,
 "nbformat_minor": 2
}
