{
 "cells": [
  {
   "cell_type": "markdown",
   "metadata": {
    "nbgrader": {
     "grade": false,
     "grade_id": "cell-78090b2544be136c",
     "locked": true,
     "schema_version": 1,
     "solution": false
    },
    "slideshow": {
     "slide_type": "-"
    }
   },
   "source": [
    "## Assignment 1.2 Python Classes\n",
    "The constructor is always written as a function called init() It must always take as its first argument a reference to the instance being constructed Single underscore before a member variable denotes it protected and double underscore denotes it private but it is just a convention."
   ]
  },
  {
   "cell_type": "markdown",
   "metadata": {
    "nbgrader": {
     "grade": false,
     "grade_id": "cell-16907de49024d1a2",
     "locked": true,
     "schema_version": 1,
     "solution": false
    }
   },
   "source": [
    "### Excersise 3\n",
    "Modify rectangle class to compare rectangle objects (comparing with areas) \n",
    "Operator overloading of rich comparisons = ,> ,< ,<= ,>= ,!= , \n"
   ]
  },
  {
   "cell_type": "code",
   "execution_count": 15,
   "metadata": {
    "nbgrader": {
     "grade": false,
     "grade_id": "cell-57c54f6b2e9f1bdd",
     "locked": false,
     "schema_version": 1,
     "solution": true
    }
   },
   "outputs": [],
   "source": [
    "### BEGIN SOLUTION\n",
    "class Rectangle():\n",
    "    def __init__(self, length, breadth):\n",
    "        self.length = length\n",
    "        self.breadth = breadth\n",
    "    def get_area(self):\n",
    "        return self.length*self.breadth\n",
    "    def get_perimeter(self):\n",
    "        return 2*(self.length+self.breadth)\n",
    "    def __repr__(self):\n",
    "        return \"Rectangle(length={}, breadth={})\".format(self.length,self.breadth)\n",
    "    def __lt__(self, other):\n",
    "        return self.get_area() < other.get_area()\n",
    "    def __le__(self, other):\n",
    "        return self.get_area() <= other.get_area()\n",
    "    def __eq__(self, other):\n",
    "        return self.get_area() == other.get_area()\n",
    "    def __ge__(self, other):\n",
    "        return self.get_area() >= other.get_area()\n",
    "    def __gt__(self, other):\n",
    "        return self.get_area() > other.get_area()\n",
    "    def __ne__(self, other):\n",
    "        return self.get_area() != other.get_area()    \n",
    "### END SOLUTION"
   ]
  },
  {
   "cell_type": "code",
   "execution_count": 16,
   "metadata": {
    "nbgrader": {
     "grade": true,
     "grade_id": "cell-2a7ef91ac3825c4f",
     "locked": true,
     "points": 5,
     "schema_version": 1,
     "solution": false
    }
   },
   "outputs": [],
   "source": [
    "assert(Rectangle(3,10)==Rectangle(3,10))\n",
    "assert(Rectangle(2,10)<Rectangle(3,10))\n",
    "assert(Rectangle(3,10)!=Rectangle(2,10))\n",
    "assert(Rectangle(3,10)>=Rectangle(3,10))\n",
    "### HIDDEN TESTS HERE ###\n",
    "### BEGIN HIDDEN TESTS\n",
    "assert(Rectangle(3,10)<=Rectangle(3,10))\n",
    "assert(Rectangle(3,10)>Rectangle(2,10))\n",
    "### END HIDDEN TESTS"
   ]
  },
  {
   "cell_type": "markdown",
   "metadata": {
    "nbgrader": {
     "grade": false,
     "grade_id": "cell-7b02b2ca0d8f5816",
     "locked": true,
     "schema_version": 1,
     "solution": false
    }
   },
   "source": [
    "### Excersise 4\n",
    "Inheritance \n",
    "Derive a class **Square** from **Rectangle** with one properties \"length\" (initialized through constructor) and able to calculate area, perimeter and comparison"
   ]
  },
  {
   "cell_type": "code",
   "execution_count": 17,
   "metadata": {
    "nbgrader": {
     "grade": false,
     "grade_id": "cell-9193fb70b8589235",
     "locked": false,
     "schema_version": 1,
     "solution": true
    }
   },
   "outputs": [],
   "source": [
    "class Square():\n",
    "    pass\n",
    "### BEGIN SOLUTION\n",
    "class Square(Rectangle):\n",
    "    def __init__(self, length):\n",
    "            self.length = length\n",
    "            self.breadth = self.length\n",
    "### END SOLUTION"
   ]
  },
  {
   "cell_type": "code",
   "execution_count": 18,
   "metadata": {
    "nbgrader": {
     "grade": true,
     "grade_id": "cell-b860a4edf7a89cec",
     "locked": true,
     "points": 5,
     "schema_version": 1,
     "solution": false
    }
   },
   "outputs": [],
   "source": [
    "assert(Square(9).get_area()==81)\n",
    "assert(Square(10) != Square(5))\n",
    "### HIDDEN TESTS HERE ###\n",
    "### BEGIN HIDDEN TESTS\n",
    "assert(Square(10).get_area()==100)\n",
    "assert(Square(10)>Square(5))\n",
    "assert(isinstance(Square,type(Rectangle)))\n",
    "### END HIDDEN TESTS"
   ]
  }
 ],
 "metadata": {
  "celltoolbar": "Create Assignment",
  "kernelspec": {
   "display_name": "Python 3",
   "language": "python",
   "name": "python3"
  },
  "language_info": {
   "codemirror_mode": {
    "name": "ipython",
    "version": 3
   },
   "file_extension": ".py",
   "mimetype": "text/x-python",
   "name": "python",
   "nbconvert_exporter": "python",
   "pygments_lexer": "ipython3",
   "version": "3.7.3"
  }
 },
 "nbformat": 4,
 "nbformat_minor": 2
}
