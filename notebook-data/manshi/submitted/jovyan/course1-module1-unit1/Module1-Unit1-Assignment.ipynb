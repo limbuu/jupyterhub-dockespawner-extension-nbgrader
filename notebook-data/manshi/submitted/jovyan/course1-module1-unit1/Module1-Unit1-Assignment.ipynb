{
 "cells": [
  {
   "cell_type": "markdown",
   "metadata": {
    "deletable": false,
    "editable": false,
    "nbgrader": {
     "checksum": "a60426d998d6d99478b084d8d8fc4c80",
     "grade": false,
     "grade_id": "cell-fcff75274f391bdd",
     "locked": true,
     "schema_version": 1,
     "solution": false
    }
   },
   "source": [
    "## Assignment 1.1 Python\n",
    "Python is an easy to learn, powerful programming language with efficient high-level data structures and object-oriented programming. Python’s elegant syntax and dynamic typing, together with its interpreted nature, make it an ideal language for scripting and rapid application development in many areas on most platforms.\n"
   ]
  },
  {
   "cell_type": "markdown",
   "metadata": {
    "deletable": false,
    "editable": false,
    "nbgrader": {
     "checksum": "37f52111122e8d6206abe16dc383dea9",
     "grade": false,
     "grade_id": "cell-0db9e2b635ded888",
     "locked": true,
     "schema_version": 1,
     "solution": false
    }
   },
   "source": [
    "### Exercise 1\n",
    "T is a Nested Tuple, use indexing to extract 'g' from the Tuple"
   ]
  },
  {
   "cell_type": "code",
   "execution_count": null,
   "metadata": {
    "deletable": false,
    "nbgrader": {
     "checksum": "180c07955d675d592784c6628e219576",
     "grade": false,
     "grade_id": "cell-bc0474cecedb5d8b",
     "locked": false,
     "schema_version": 1,
     "solution": true
    }
   },
   "outputs": [],
   "source": [
    "T = ('a','b','c',('d','e'),('f',('f','g'),'k'),'p')\n",
    "thisisg = None\n",
    "# YOUR CODE HERE\n",
    "raise NotImplementedError()"
   ]
  },
  {
   "cell_type": "code",
   "execution_count": null,
   "metadata": {
    "deletable": false,
    "editable": false,
    "nbgrader": {
     "checksum": "e152acd11c554804c152a7dad410f7c8",
     "grade": true,
     "grade_id": "cell-d4a09f8a55d85bbc",
     "locked": true,
     "points": 5,
     "schema_version": 1,
     "solution": false
    }
   },
   "outputs": [],
   "source": [
    "### HIDDEN TESTS HERE ####\n",
    "assert(thisisg=='g')"
   ]
  },
  {
   "cell_type": "markdown",
   "metadata": {
    "deletable": false,
    "editable": false,
    "nbgrader": {
     "checksum": "89b58bb85d9928e5f59517c2f5f1a58e",
     "grade": false,
     "grade_id": "cell-f268446e88537fbb",
     "locked": true,
     "schema_version": 1,
     "solution": false
    }
   },
   "source": [
    "### Exercise 2 (Lists)\n",
    "Find the sum of the smallest 10 numbers of List L Indexing, Sorted and sum function could be useful"
   ]
  },
  {
   "cell_type": "code",
   "execution_count": null,
   "metadata": {
    "deletable": false,
    "nbgrader": {
     "checksum": "b12542edcb4519167b5ce08ffd999904",
     "grade": false,
     "grade_id": "cell-1b1563dfa6a1140e",
     "locked": false,
     "schema_version": 1,
     "solution": true
    }
   },
   "outputs": [],
   "source": [
    "L =[75, 28, 47, 51, 96, 76, 32, 57, 10, 10, 25, 62, 17,  9, 68, 65, -2,\n",
    "       54, 34, 41, 74, 83, 91, 59, -3, 88, 59, 91, 10, -9, 90, 46, 58, 25,\n",
    "       62, 32, 74,  1, 61, 43, 25, 62, -5, 49, 40, 44, 83, -5, 13, 35]\n",
    "\n",
    "# YOUR CODE HERE\n",
    "raise NotImplementedError()"
   ]
  },
  {
   "cell_type": "code",
   "execution_count": null,
   "metadata": {
    "deletable": false,
    "editable": false,
    "nbgrader": {
     "checksum": "63423a6cc980b4e78d2f5695e2039754",
     "grade": true,
     "grade_id": "cell-b939687d9fb4af3a",
     "locked": true,
     "points": 5,
     "schema_version": 1,
     "solution": false
    }
   },
   "outputs": [],
   "source": [
    "### HIDDEN TESTS HERE ####\n",
    "assert(ans==16)"
   ]
  }
 ],
 "metadata": {
  "kernelspec": {
   "display_name": "Python 3",
   "language": "python",
   "name": "python3"
  },
  "language_info": {
   "codemirror_mode": {
    "name": "ipython",
    "version": 3
   },
   "file_extension": ".py",
   "mimetype": "text/x-python",
   "name": "python",
   "nbconvert_exporter": "python",
   "pygments_lexer": "ipython3",
   "version": "3.7.3"
  }
 },
 "nbformat": 4,
 "nbformat_minor": 2
}
