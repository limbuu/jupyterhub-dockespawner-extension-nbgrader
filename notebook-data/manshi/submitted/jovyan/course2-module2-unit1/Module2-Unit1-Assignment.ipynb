{
 "cells": [
  {
   "cell_type": "markdown",
   "metadata": {
    "deletable": false,
    "editable": false,
    "nbgrader": {
     "checksum": "19546c94be06b21901c23a02339bd085",
     "grade": false,
     "grade_id": "cell-9cba43e97a829e4f",
     "locked": true,
     "schema_version": 1,
     "solution": false
    }
   },
   "source": [
    "## Assignment 1.2 Python Classes\n",
    "The constructor is always written as a function called init()\n",
    "It must always take as its first argument a reference to the instance being constructed\n",
    "Single underscore before a member variable denotes it protected and double underscore denotes it private but it is just a convention."
   ]
  },
  {
   "cell_type": "markdown",
   "metadata": {
    "deletable": false,
    "editable": false,
    "nbgrader": {
     "checksum": "9d7388bd88f782151e94ead8bbac5128",
     "grade": false,
     "grade_id": "cell-ff1a22272958c2da",
     "locked": true,
     "schema_version": 1,
     "solution": false
    }
   },
   "source": [
    "### Excercise1 \n",
    "Create a Class Rectangle such that its objects are initialized with its length and breadth. Make two class methods get_area and get_perimeter which calculates and return the area and circumference respectively\n"
   ]
  },
  {
   "cell_type": "code",
   "execution_count": null,
   "metadata": {
    "deletable": false,
    "nbgrader": {
     "checksum": "480373ebcc935876461c663182090d77",
     "grade": false,
     "grade_id": "cell-88007790521d6ed4",
     "locked": false,
     "schema_version": 1,
     "solution": true
    }
   },
   "outputs": [],
   "source": [
    "class Rectangle():\n",
    "# Your code here\n",
    "    def get_area():\n",
    "        # Code here\n",
    "        pass\n",
    "    def get_perimeter():\n",
    "        #Code here\n",
    "        pass\n",
    "# YOUR CODE HERE\n",
    "raise NotImplementedError()"
   ]
  },
  {
   "cell_type": "code",
   "execution_count": null,
   "metadata": {
    "deletable": false,
    "editable": false,
    "nbgrader": {
     "checksum": "6362e4af77e9f8fa035c813b4a0ac114",
     "grade": true,
     "grade_id": "cell-01c4e2988b52334e",
     "locked": true,
     "points": 5,
     "schema_version": 1,
     "solution": false
    }
   },
   "outputs": [],
   "source": [
    "rec1 = Rectangle(4,10)\n",
    "assert(rec1.get_area() == 40)\n",
    "### HIDDEN TESTS HERE ###"
   ]
  },
  {
   "cell_type": "markdown",
   "metadata": {
    "deletable": false,
    "editable": false,
    "nbgrader": {
     "checksum": "46cf9ceafd2d04a9fc24ee9e4df2e643",
     "grade": false,
     "grade_id": "cell-79acb6407491a5f6",
     "locked": true,
     "schema_version": 1,
     "solution": false
    }
   },
   "source": [
    "### Excersie2 \n",
    "Python Special Methods"
   ]
  },
  {
   "cell_type": "code",
   "execution_count": null,
   "metadata": {
    "deletable": false,
    "nbgrader": {
     "checksum": "dd772f792d359fa810e70d99770731a0",
     "grade": false,
     "grade_id": "cell-648325934ae54185",
     "locked": false,
     "schema_version": 1,
     "solution": true
    }
   },
   "outputs": [],
   "source": [
    "# Modify the Rectangle class to print object as \"Rectangle(length=a, breadth=b)\"\n",
    "# where a and b are length and breadth \n",
    "\n",
    "# YOUR CODE HERE\n",
    "raise NotImplementedError()"
   ]
  },
  {
   "cell_type": "code",
   "execution_count": null,
   "metadata": {
    "deletable": false,
    "editable": false,
    "nbgrader": {
     "checksum": "6c5e72d69a35552cac55a8d023a512d2",
     "grade": true,
     "grade_id": "cell-eab820ca1546be91",
     "locked": true,
     "points": 5,
     "schema_version": 1,
     "solution": false
    }
   },
   "outputs": [],
   "source": [
    "### HIDDEN TESTS HERE ###"
   ]
  }
 ],
 "metadata": {
  "kernelspec": {
   "display_name": "Python 3",
   "language": "python",
   "name": "python3"
  },
  "language_info": {
   "codemirror_mode": {
    "name": "ipython",
    "version": 3
   },
   "file_extension": ".py",
   "mimetype": "text/x-python",
   "name": "python",
   "nbconvert_exporter": "python",
   "pygments_lexer": "ipython3",
   "version": "3.7.3"
  }
 },
 "nbformat": 4,
 "nbformat_minor": 2
}
